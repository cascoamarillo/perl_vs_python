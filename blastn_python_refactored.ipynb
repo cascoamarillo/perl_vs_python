{
 "cells": [
  {
   "cell_type": "markdown",
   "id": "f9793873",
   "metadata": {},
   "source": [
    "# BLAST-like Identity Comparison in Python\n",
    "This notebook implements a simple BLAST-like algorithm for DNA sequence alignment from /Users/frvsbi/Documents/RIT/BIOL-530-630/Dry-Lab/Lab03/blast/blastn.pl"
   ]
  },
  {
   "cell_type": "code",
   "execution_count": 1,
   "id": "ba61d500",
   "metadata": {},
   "outputs": [],
   "source": [
    "from Bio import SeqIO\n",
    "\n",
    "def read_fasta(file_path):\n",
    "    \"\"\"Reads a FASTA file and returns a sequence string.\"\"\"\n",
    "    record = next(SeqIO.parse(file_path, \"fasta\"))  # Assume a single sequence\n",
    "    return str(record.seq)\n",
    "\n",
    "def find_word_hits(query, subject, word_size):\n",
    "    \"\"\"Finds exact word matches of size `word_size` between query and subject sequences.\"\"\"\n",
    "    word_hits = []\n",
    "    query_len = len(query)\n",
    "    \n",
    "    # Create a dictionary of words from query\n",
    "    query_words = {query[i:i+word_size]: i for i in range(query_len - word_size + 1)}\n",
    "    \n",
    "    # Scan subject for matching words\n",
    "    for j in range(len(subject) - word_size + 1):\n",
    "        word = subject[j:j+word_size]\n",
    "        if word in query_words:\n",
    "            word_hits.append((query_words[word], j))  # Store (query_pos, subject_pos)\n",
    "    \n",
    "    return word_hits\n",
    "\n",
    "def extend_alignment(query, subject, q_pos, s_pos, match_score=5, mismatch_score=-2):\n",
    "    \"\"\"Extends alignment from a word hit and returns the best local alignment score.\"\"\"\n",
    "    score = 0\n",
    "    aligned_q, aligned_s = \"\", \"\"\n",
    "    \n",
    "    # Extend forward\n",
    "    i, j = q_pos, s_pos\n",
    "    while i < len(query) and j < len(subject):\n",
    "        if query[i] == subject[j]:\n",
    "            score += match_score\n",
    "        else:\n",
    "            score += mismatch_score\n",
    "        aligned_q += query[i]\n",
    "        aligned_s += subject[j]\n",
    "        i += 1\n",
    "        j += 1\n",
    "    \n",
    "    return score, aligned_q, aligned_s\n",
    "\n",
    "def blast_simulation(query_file, subject_file, word_size=10):\n",
    "    \"\"\"Runs a BLAST-like identity comparison between two DNA sequences.\"\"\"\n",
    "    query_seq = read_fasta(query_file)\n",
    "    subject_seq = read_fasta(subject_file)\n",
    "    \n",
    "    word_hits = find_word_hits(query_seq, subject_seq, word_size)\n",
    "    \n",
    "    best_alignment = None\n",
    "    best_score = float('-inf')\n",
    "    \n",
    "    for q_pos, s_pos in word_hits:\n",
    "        score, aligned_q, aligned_s = extend_alignment(query_seq, subject_seq, q_pos, s_pos)\n",
    "        if score > best_score:\n",
    "            best_score = score\n",
    "            best_alignment = (aligned_q, aligned_s, score)\n",
    "    \n",
    "    if best_alignment:\n",
    "        print(\"Best Alignment:\")\n",
    "        print(best_alignment[0])\n",
    "        print(best_alignment[1])\n",
    "        print(\"Score:\", best_alignment[2])\n",
    "    else:\n",
    "        print(\"No significant alignments found.\")"
   ]
  },
  {
   "cell_type": "code",
   "execution_count": 3,
   "id": "f354aab8",
   "metadata": {},
   "outputs": [
    {
     "name": "stdout",
     "output_type": "stream",
     "text": [
      "Best Alignment:\n",
      "TGGTACTATTACCCGAGGTTAACGATCCTAGGTTTAGTAAGTTGGTCGAAATTGATTGTTTATAGAGAAAATATCTATAATAAATTTAATCAGTAATTTAAAAACAGGTCCGTATTTTAGCTTTCAAACCTTAAAAACTCCCAAAGTATGTGCTCTACCAAGCTAAGTTATATCCTGAATATAAAAGTAACAAAGAACGAACTTTCCTCTAAACGATTTAATCTAGAAAACTTGACAAATGACAATAAAAAAGATGATGATAAGAGTATTTTAACAGATCTCTCTCAAACAAATTTATGGTCTATTTCTTTCGCTTTTTATTTCTTTTAATCAATATTGATCAAGAAACTGTTTTAAATTGGTTTGGAATTGATAATCCAAATAACGTAAATGTTTTATCCGAGAATGTTACCATTTCAAGTAGCCAAACTACGACAGCTCCTGCTGTTTCGTTTCAAACATTGAGTTTAATTATAGAAGGTCTCTGGCAACATGTTCAAGATGGATTAACTTTAGCAGATATTGAAAATCTGTTATTTTTTATTCTCTTTATTCGATTTGTGATTTTAGCAATTCGTTATAATTTAAAAACCTCATTTTATATTACTTGTATTGGACTTTTTGCAGGATATCTTTGGTATCGACATCTCATTGATTTAATTGCTATGTACCGAAGTATGTTGATTAAACTTCCATATTTACATAAATTAGGAATTGATGCTATTCAACTAAGTTCTATGAGTCGTCAAATTGTGCTAACCGACTTAAAACTTGGTGAGAATGTTCACTGGTACAATCCTGGTCAAGTCTTATATTATGCCATTTTAAAAGGAATTATTCAAGTTGATCCCGAAACGGGACTTCGCTATTATATTGATCCACTTTCAATGCTCATTTCTAATTTGAAAGAATCTCAAAAAGAAACTATTTTACCAATTTACTATAAAGTATACAATAAGATTATTCCTCAAGTTTTTGAAGGAATCAGTAAATTTTGGACCCAACTATCCGGCATTGCTGCTTATGCGGTGATTACGCGAATTGGAAAAAAATATTGTCCATATTTAGTTCGATGGCATTGGACATTTTTATTAATTATTGGATTTATTGAACAAATTTTAATTTACTTTTGTTATCGAATTTCTTATTTTCAGTCCAATGTTTTAATTCCACAAGCAGAATTGGCAAAT\n",
      "TGGTACTATTACCCGAGGTTAACGATCCTAGGTTTAGTAAGTTGGTCGAAATTGATTGTTTATAGAGAAAATATCTATAATAAATTTAATCAGTAATTTAAAAACAGGTCCGTATTTTAGCTTTCAAACCTTAAAAACTCCCAAAGTATGTGCTCTACCAAGCTAAGTTATATCCTGAATATAAAAGTAACAAAGAACGAACTTTCCTCTAAACGATTTAATCTAGAAAACTTGACAAATGACAATAAAAAAGATGATGATAAGAGTATTTTAACAGATCTCTCTCAAACAAATTTATGGTCTATTTCTTTCGCTTTTTATTTCTTTTAATCAATATTGATCAAGAAACTGTTTTAAATTGGTTTGGAATTGATAATCCAAATAACGTAAATGTTTTATCCGAGAATGTTACCATTTCAAGTAGCCAAACTACGACAGCTCCTGCTGTTTCGTTTCAAACATTGAGTTTAATTATAGAAGGTCTCTGGCAACATGTTCAAGATGGATTAACTTTAGCAGATATTGAAAATCTGTTATTTTTTATTCTCTTTATTCGATTTGTGATTTTAGCAATTCGTTATAATTTAAAAACCTCATTTTATATTACTTGTATTGGACTTTTTGCAGGATATCTTTGGTATCGACATCTCATTGATTTAATTGCTATGTACCGAAGTATGTTGATTAAACTTCCATATTTACATAAATTAGGAATTGATGCTATTCAACTAAGTTCTATGAGTCGTCAAATTGTGCTAACCGACTTAAAACTTGGTGAGAATGTTCACTGGTACAATCCTGGTCAAGTCTTATATTATGCCATTTTAAAAGGAATTATTCAAGTTGATCCCGAAACGGGACTTCGCTATTATATTGATCCACTTTCAATGCTCATTTCTAATTTGAAAGAATCTCAAAAAGAAACTATTTTACCAATTTACTATAAAGTATACAATAAGATTATTCCTCAAGTTTTTGAAGGAATCAGTAAATTTTGGACCCAACTATCCGGCATTGCTGCTTATGCGGTGATTACGCGAATTGGAAAAAAATATTGTCCATATTTAGTTCGATGGCATTGGACATTTTTATTAATTATTGGATTTATTGAACAAATTTTAATTTACTTTTGTTATCGAATTTCTTATTTTCAGTCCAATGTTTTAATTCCACAAGCAGAATTGGCAAAT\n",
      "Score: 5950\n"
     ]
    }
   ],
   "source": [
    "# Example usage\n",
    "# blast_simulation(\"seq1.fasta\", \"seq2.fasta\")\n",
    "blast_simulation(\"/Users/frvsbi/Documents/RIT/BIOL-530-630/Dry-Lab/Lab03/blast/blastdb/query1.fasta\", \"/Users/frvsbi/Documents/RIT/BIOL-530-630/Dry-Lab/Lab03/blast/blastdb/database.fasta\")"
   ]
  }
 ],
 "metadata": {
  "kernelspec": {
   "display_name": "Python 3",
   "language": "python",
   "name": "python3"
  },
  "language_info": {
   "codemirror_mode": {
    "name": "ipython",
    "version": 3
   },
   "file_extension": ".py",
   "mimetype": "text/x-python",
   "name": "python",
   "nbconvert_exporter": "python",
   "pygments_lexer": "ipython3",
   "version": "3.9.6"
  }
 },
 "nbformat": 4,
 "nbformat_minor": 5
}
